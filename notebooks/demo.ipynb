{
 "cells": [
  {
   "attachments": {},
   "cell_type": "markdown",
   "metadata": {},
   "source": [
    "# Traitement des corrélations dans une pipeline de modélisation\n",
    "\n",
    "Dans le fichier `correlation.py`, 3 méthodes de sélection de variables à partir des corrélations sont implémentées. Ces 3 méthodes sont implémentés au travers de l'interface `TransformerMixin` de `sklearn` pour pouvoir être intégrée facilement dans des pipelines.\n",
    "\n",
    "1. Corrélation avec la variable cible (`CorrelationToTarget`) : on garde uniquement les variables qui sont corrélées avec la variable à prédire. Le seuil de corrélation est un paramètre de ce transformer.\n",
    "2. Détection des corrélations par paires (`PairwiseCorrelationDrop`) : quand une variable est corrélée (seuil de corrélation en paramètre), on retire cette variable de notre sélection. Par symétrie, on devrait retirer les deux variables en questions, le choix qui est fait est de retirer celle qui est en moyenne la plus corrélée avec les autres variables. Cette méthode est expliquée [ici](https://towardsdatascience.com/are-you-dropping-too-many-correlated-features-d1c96654abe6) et étendue pour éviter de retirer trop de colonnes. L'extension repose sur le fait que l'on retire itérativement les variables corrélées pour éviter de les prendre en compte lorsque l'on s'intéresse aux variables suivantes.\n",
    "3. Regroupement de variables en fonction de leurs corrélations (`ClusteringCorrelation`) : les variables sont regroupés par une CAH en prenant comme distance $1-abs(corr(X_i, X_j))$. Les groupes sont déterminés par un seuil de corrélation, toutes les variables dans un groupe sont corrélées à plus de $1 - seuil$. La méthode est détaillée [ici](https://kobia.fr/automatiser-la-reduction-des-correlations-par-clustering/). Pour chaque groupe, 2 possibilités : on garde un nombre de colonnes fixé à l'avance (1 par défaut), on construit une PCA pour chaque groupe et on choisit le nombre de composantes à garder."
   ]
  },
  {
   "cell_type": "code",
   "execution_count": 1,
   "metadata": {},
   "outputs": [],
   "source": [
    "import pandas as pd\n",
    "import matplotlib.pyplot as plt\n",
    "\n",
    "from sklearn import set_config\n",
    "\n",
    "from sklearn.datasets import load_diabetes\n",
    "from sklearn.pipeline import make_pipeline\n",
    "from sklearn.model_selection import train_test_split\n",
    "\n",
    "from sklearn.preprocessing import MinMaxScaler\n",
    "from sklearn.linear_model import LinearRegression\n",
    "from sklearn.dummy import DummyRegressor\n",
    "\n",
    "from cc_tk.feature.correlation import (\n",
    "    CorrelationToTarget,\n",
    "    # ClusteringCorrelation,\n",
    "    # PairwiseCorrelationDrop,\n",
    ")"
   ]
  },
  {
   "cell_type": "code",
   "execution_count": 2,
   "metadata": {},
   "outputs": [],
   "source": [
    "set_config(transform_output=\"pandas\")"
   ]
  },
  {
   "cell_type": "code",
   "execution_count": 3,
   "metadata": {},
   "outputs": [],
   "source": [
    "X, y = load_diabetes(return_X_y=True, as_frame=True)\n",
    "X_train, X_test, y_train, y_test = train_test_split(X, y, random_state=22)"
   ]
  },
  {
   "cell_type": "code",
   "execution_count": 4,
   "metadata": {},
   "outputs": [
    {
     "data": {
      "text/plain": [
       "Index(['age', 'sex', 'bmi', 'bp', 's1', 's2', 's3', 's4', 's5', 's6'], dtype='object')"
      ]
     },
     "execution_count": 4,
     "metadata": {},
     "output_type": "execute_result"
    }
   ],
   "source": [
    "X.columns"
   ]
  },
  {
   "cell_type": "code",
   "execution_count": 5,
   "metadata": {},
   "outputs": [
    {
     "data": {
      "text/plain": [
       "-0.0003801753238461547"
      ]
     },
     "execution_count": 5,
     "metadata": {},
     "output_type": "execute_result"
    }
   ],
   "source": [
    "baseline = DummyRegressor()\n",
    "baseline.fit(X_train, y_train)\n",
    "baseline.score(X_test, y_test)"
   ]
  },
  {
   "attachments": {},
   "cell_type": "markdown",
   "metadata": {},
   "source": [
    "## Corrélation avec la cible"
   ]
  },
  {
   "cell_type": "code",
   "execution_count": 6,
   "metadata": {},
   "outputs": [
    {
     "data": {
      "text/plain": [
       "0.48613757778290967"
      ]
     },
     "execution_count": 6,
     "metadata": {},
     "output_type": "execute_result"
    }
   ],
   "source": [
    "correlation_target_pipeline = make_pipeline(\n",
    "    MinMaxScaler().set_output(transform=\"pandas\"),\n",
    "    CorrelationToTarget(threshold=0.1),\n",
    "    LinearRegression(),\n",
    ")\n",
    "correlation_target_pipeline.fit(X_train, y_train)\n",
    "correlation_target_pipeline.score(X_test, y_test)"
   ]
  },
  {
   "cell_type": "code",
   "execution_count": 7,
   "metadata": {},
   "outputs": [
    {
     "data": {
      "text/plain": [
       "Index(['age', 'bmi', 'bp', 's1', 's2', 's3', 's4', 's5', 's6'], dtype='object')"
      ]
     },
     "execution_count": 7,
     "metadata": {},
     "output_type": "execute_result"
    }
   ],
   "source": [
    "correlation_target_pipeline[\"correlationtotarget\"]._selected_columns"
   ]
  },
  {
   "cell_type": "code",
   "execution_count": 8,
   "metadata": {},
   "outputs": [
    {
     "data": {
      "image/png": "[encoded data removed]",
      "text/plain": [
       "<Figure size 640x480 with 1 Axes>"
      ]
     },
     "metadata": {},
     "output_type": "display_data"
    }
   ],
   "source": [
    "correlation_target_pipeline[\"correlationtotarget\"].plot_correlation()"
   ]
  },
  {
   "attachments": {},
   "cell_type": "markdown",
   "metadata": {},
   "source": [
    "## Corrélation par pair"
   ]
  },
  {
   "cell_type": "code",
   "execution_count": 7,
   "metadata": {},
   "outputs": [
    {
     "name": "stderr",
     "output_type": "stream",
     "text": [
      "c:\\Users\\u1138000\\OneDrive - IQVIA\\Documents\\Projets\\correlated-data\\correlation.py:264: FutureWarning: The frame.append method is deprecated and will be removed from pandas in a future version. Use pandas.concat instead.\n",
      "  res = res.append(s, ignore_index = True)\n"
     ]
    },
    {
     "data": {
      "text/plain": [
       "0.4838338289064399"
      ]
     },
     "execution_count": 7,
     "metadata": {},
     "output_type": "execute_result"
    }
   ],
   "source": [
    "correlation_pairwise_pipeline = make_pipeline(\n",
    "    MinMaxScaler().set_output(transform=\"pandas\"),\n",
    "    PairwiseCorrelationDrop(threshold=0.8),\n",
    "    LinearRegression(),\n",
    ")\n",
    "correlation_pairwise_pipeline.fit(X_train, y_train)\n",
    "correlation_pairwise_pipeline.score(X_test, y_test)"
   ]
  },
  {
   "cell_type": "code",
   "execution_count": 8,
   "metadata": {},
   "outputs": [
    {
     "data": {
      "text/plain": [
       "['age', 'sex', 'bmi', 'bp', 's2', 's3', 's4', 's5', 's6']"
      ]
     },
     "execution_count": 8,
     "metadata": {},
     "output_type": "execute_result"
    }
   ],
   "source": [
    "correlation_pairwise_pipeline[\"pairwisecorrelationdrop\"].columns_to_keep"
   ]
  },
  {
   "attachments": {},
   "cell_type": "markdown",
   "metadata": {},
   "source": [
    "## Clusters de corrélation"
   ]
  },
  {
   "cell_type": "code",
   "execution_count": 32,
   "metadata": {},
   "outputs": [
    {
     "data": {
      "text/plain": [
       "0.4850187399809789"
      ]
     },
     "execution_count": 32,
     "metadata": {},
     "output_type": "execute_result"
    }
   ],
   "source": [
    "correlation_clustering_pipeline = make_pipeline(\n",
    "    MinMaxScaler().set_output(transform=\"pandas\"),\n",
    "    ClusteringCorrelation(threshold=0.3, summary_method=\"first\"),\n",
    "    LinearRegression(),\n",
    ")\n",
    "correlation_clustering_pipeline.fit(X_train, y_train)\n",
    "correlation_clustering_pipeline.score(X_test, y_test)"
   ]
  },
  {
   "cell_type": "code",
   "execution_count": 33,
   "metadata": {},
   "outputs": [
    {
     "data": {
      "image/png": "[encoded data removed]",
      "text/plain": [
       "<Figure size 640x480 with 1 Axes>"
      ]
     },
     "metadata": {},
     "output_type": "display_data"
    }
   ],
   "source": [
    "dendro = correlation_clustering_pipeline[\"clusteringcorrelation\"].plot_dendro()"
   ]
  },
  {
   "attachments": {},
   "cell_type": "markdown",
   "metadata": {},
   "source": [
    "## Combinaison de différents transformer\n",
    "\n",
    "Il est aussi possible de combiner différentes méthodes de sélection de variables."
   ]
  },
  {
   "cell_type": "code",
   "execution_count": 34,
   "metadata": {},
   "outputs": [
    {
     "data": {
      "text/plain": [
       "0.4636990163174318"
      ]
     },
     "execution_count": 34,
     "metadata": {},
     "output_type": "execute_result"
    }
   ],
   "source": [
    "correlation_combined_pipeline = make_pipeline(\n",
    "    MinMaxScaler().set_output(transform=\"pandas\"),\n",
    "    CorrelationToTarget(threshold=0.1),\n",
    "    ClusteringCorrelation(threshold=0.3, summary_method=\"first\"),\n",
    "    LinearRegression(),\n",
    ")\n",
    "correlation_combined_pipeline.fit(X_train, y_train)\n",
    "correlation_combined_pipeline.score(X_test, y_test)"
   ]
  }
 ],
 "metadata": {
  "kernelspec": {
   "display_name": "Python 3.8.15 ('engage-pip')",
   "language": "python",
   "name": "python3"
  },
  "language_info": {
   "codemirror_mode": {
    "name": "ipython",
    "version": 3
   },
   "file_extension": ".py",
   "mimetype": "text/x-python",
   "name": "python",
   "nbconvert_exporter": "python",
   "pygments_lexer": "ipython3",
   "version": "3.10.12"
  },
  "orig_nbformat": 4,
  "vscode": {
   "interpreter": {
    "hash": "493bc9df2b15572748d078fe9d83121fa3b3669e37d640ad38f957bd03c7eb3f"
   }
  }
 },
 "nbformat": 4,
 "nbformat_minor": 2
}
